{
 "cells": [
  {
   "cell_type": "code",
   "execution_count": 1,
   "metadata": {},
   "outputs": [
    {
     "name": "stderr",
     "output_type": "stream",
     "text": [
      "C:\\Users\\Lauri\\Anaconda3\\envs\\sr\\lib\\site-packages\\h5py\\__init__.py:36: FutureWarning: Conversion of the second argument of issubdtype from `float` to `np.floating` is deprecated. In future, it will be treated as `np.float64 == np.dtype(float).type`.\n",
      "  from ._conv import register_converters as _register_converters\n",
      "Using TensorFlow backend.\n"
     ]
    }
   ],
   "source": [
    "import librosa\n",
    "import numpy as np\n",
    "import pickle\n",
    "import sklearn\n",
    "import functions"
   ]
  },
  {
   "cell_type": "code",
   "execution_count": 4,
   "metadata": {},
   "outputs": [],
   "source": [
    "training_filename = ('training_labels.lst')\n",
    "training_list = open(training_filename, \"r\")\n",
    "data_names, data_labels = functions.read_file(training_list)"
   ]
  },
  {
   "cell_type": "code",
   "execution_count": null,
   "metadata": {},
   "outputs": [],
   "source": [
    "pickle_file_name = 'D:\\\\dippa\\\\voxceleb1\\\\wav' + data_names[i] + '.mel'\n",
    "#extract mel spectrogram\n"
   ]
  },
  {
   "cell_type": "code",
   "execution_count": 12,
   "metadata": {},
   "outputs": [],
   "source": [
    "for i in range(0, len(data_names)):        \n",
    "            pickle_file_name = 'D:/dippa/speaker_verification-master/wav/' + data_names[i] + '.mel'\n",
    "            y, sr = librosa.load('D:/dippa/speaker_verification-master/wav/'+data_names[i] + '.wav')\n",
    "            data=librosa.feature.melspectrogram(y=y, sr=sr)\n",
    "            pickle_file = open(pickle_file_name, 'wb')\n",
    "            pickle.dump(data, pickle_file)\n",
    "            pickle_file.close()"
   ]
  },
  {
   "cell_type": "code",
   "execution_count": 4,
   "metadata": {},
   "outputs": [],
   "source": [
    "from keras.models import load_model"
   ]
  },
  {
   "cell_type": "code",
   "execution_count": 7,
   "metadata": {
    "scrolled": true
   },
   "outputs": [],
   "source": [
    "model = keras.models.load_model('D:/dippa/speaker_verification-master/dev/cnn_spectrogram_2_vector.h5')"
   ]
  },
  {
   "cell_type": "code",
   "execution_count": 8,
   "metadata": {},
   "outputs": [
    {
     "data": {
      "text/plain": [
       "[<keras.engine.input_layer.InputLayer at 0x21147c37eb8>,\n",
       " <keras.layers.convolutional.Conv2D at 0x21147c25550>,\n",
       " <keras.layers.convolutional.Conv2D at 0x21147c25470>,\n",
       " <keras.layers.pooling.MaxPooling2D at 0x21147c252b0>,\n",
       " <keras.layers.core.Flatten at 0x21147c253c8>,\n",
       " <keras.layers.core.Dense at 0x21147c25588>,\n",
       " <keras.layers.normalization.BatchNormalization at 0x21147c25828>,\n",
       " <keras.layers.core.Dropout at 0x21147c259b0>,\n",
       " <keras.layers.core.Dense at 0x21147c25c50>,\n",
       " <keras.layers.core.Dense at 0x21147c25a20>]"
      ]
     },
     "execution_count": 8,
     "metadata": {},
     "output_type": "execute_result"
    }
   ],
   "source": [
    "model.layers"
   ]
  },
  {
   "cell_type": "code",
   "execution_count": 9,
   "metadata": {},
   "outputs": [
    {
     "data": {
      "text/plain": [
       "[<tf.Tensor 'input_1:0' shape=(?, 100, 128, 1) dtype=float32>]"
      ]
     },
     "execution_count": 9,
     "metadata": {},
     "output_type": "execute_result"
    }
   ],
   "source": [
    "model.inputs"
   ]
  },
  {
   "cell_type": "code",
   "execution_count": 10,
   "metadata": {},
   "outputs": [
    {
     "data": {
      "text/plain": [
       "[<tf.Tensor 'Classification/Softmax:0' shape=(?, 40) dtype=float32>]"
      ]
     },
     "execution_count": 10,
     "metadata": {},
     "output_type": "execute_result"
    }
   ],
   "source": [
    "model.outputs"
   ]
  },
  {
   "cell_type": "code",
   "execution_count": 11,
   "metadata": {},
   "outputs": [
    {
     "name": "stdout",
     "output_type": "stream",
     "text": [
      "_________________________________________________________________\n",
      "Layer (type)                 Output Shape              Param #   \n",
      "=================================================================\n",
      "input_1 (InputLayer)         (None, 100, 128, 1)       0         \n",
      "_________________________________________________________________\n",
      "block1_conv_1 (Conv2D)       (None, 100, 128, 16)      160       \n",
      "_________________________________________________________________\n",
      "block1_conv_2 (Conv2D)       (None, 100, 128, 16)      2320      \n",
      "_________________________________________________________________\n",
      "block1_pool (MaxPooling2D)   (None, 50, 64, 16)        0         \n",
      "_________________________________________________________________\n",
      "flatten_1 (Flatten)          (None, 51200)             0         \n",
      "_________________________________________________________________\n",
      "dense_1 (Dense)              (None, 1000)              51201000  \n",
      "_________________________________________________________________\n",
      "batch_normalization_1 (Batch (None, 1000)              4000      \n",
      "_________________________________________________________________\n",
      "dropout_1 (Dropout)          (None, 1000)              0         \n",
      "_________________________________________________________________\n",
      "Embedding (Dense)            (None, 400)               400400    \n",
      "_________________________________________________________________\n",
      "Classification (Dense)       (None, 40)                16040     \n",
      "=================================================================\n",
      "Total params: 51,623,920\n",
      "Trainable params: 51,621,920\n",
      "Non-trainable params: 2,000\n",
      "_________________________________________________________________\n"
     ]
    }
   ],
   "source": [
    "model.summary()"
   ]
  },
  {
   "cell_type": "code",
   "execution_count": null,
   "metadata": {},
   "outputs": [],
   "source": []
  }
 ],
 "metadata": {
  "kernelspec": {
   "display_name": "Python 3",
   "language": "python",
   "name": "python3"
  },
  "language_info": {
   "codemirror_mode": {
    "name": "ipython",
    "version": 3
   },
   "file_extension": ".py",
   "mimetype": "text/x-python",
   "name": "python",
   "nbconvert_exporter": "python",
   "pygments_lexer": "ipython3",
   "version": "3.5.5"
  }
 },
 "nbformat": 4,
 "nbformat_minor": 2
}
